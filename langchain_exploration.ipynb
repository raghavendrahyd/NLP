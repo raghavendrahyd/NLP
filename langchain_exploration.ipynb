{
 "cells": [
  {
   "cell_type": "code",
   "execution_count": 1,
   "metadata": {},
   "outputs": [],
   "source": [
    "import os\n",
    "import langchain\n",
    "import json\n",
    "\n",
    "from langchain.llms import OpenAI, Cohere, HuggingFaceHub\n",
    "from langchain.chat_models import ChatOpenAI\n",
    "from langchain.schema import (\n",
    "    AIMessage,\n",
    "    HumanMessage,\n",
    "    SystemMessage\n",
    ")\n",
    "\n",
    "from langchain.document_loaders import TextLoader\n",
    "from langchain.indexes import VectorstoreIndexCreator\n",
    "\n",
    "from langchain.chat_models import ChatOpenAI\n",
    "from langchain import LLMChain\n",
    "from langchain.prompts.chat import (\n",
    "    ChatPromptTemplate,\n",
    "    HumanMessagePromptTemplate,\n",
    ")\n",
    "from langchain.prompts import PromptTemplate\n",
    "from langchain.chains import ConversationChain,SimpleSequentialChain\n",
    "\n",
    "from langchain.agents import load_tools\n",
    "from langchain.agents import initialize_agent"
   ]
  },
  {
   "cell_type": "code",
   "execution_count": 23,
   "metadata": {},
   "outputs": [],
   "source": [
    "with open('secrets.json') as f:\n",
    "    secrets = json.load(f)\n"
   ]
  },
  {
   "cell_type": "code",
   "execution_count": 8,
   "metadata": {},
   "outputs": [],
   "source": [
    "os.environ['OPENAI_API_KEY'] = secrets['open_ai_key']"
   ]
  },
  {
   "cell_type": "code",
   "execution_count": 9,
   "metadata": {},
   "outputs": [],
   "source": [
    "os.environ[\"HUGGINGFACEHUB_API_TOKEN\"] =  secrets['hf_hub_key']"
   ]
  },
  {
   "cell_type": "code",
   "execution_count": 24,
   "metadata": {},
   "outputs": [],
   "source": [
    "os.environ[\"COHERE_API_KEY\"] =  secrets['cohere_key']"
   ]
  },
  {
   "cell_type": "code",
   "execution_count": 10,
   "metadata": {},
   "outputs": [
    {
     "name": "stdout",
     "output_type": "stream",
     "text": [
      "\n",
      "  \n",
      "  \n",
      "    \n",
      "      \n",
      "        Japan and Its People\n",
      "        Its famous bullet trains zip through the country at up to\n",
      "        300 km (186 miles) per hour. Its factories feature the latest\n",
      "        generation of industrial robots that dont eat, dont sleep, and never\n",
      "        strike. Its high-tech consumer electronics companies have placed\n",
      "        affordable — and notoriously reliable — electronic products in\n",
      "        households around the world.\n",
      "        But peel back a layer and a different picture starts to\n",
      "        emerge. In many ways, Japan is not yet a truly modern country. Its\n",
      "        social roots still lie deeply in its past as a feudal society of\n",
      "        countless closely knit agricultural communities dominated by a small\n",
      "        political elite.\n",
      "        Japan is still trying to define its place in a world in\n",
      "        which it is constantly accused of being an economic whale but a\n",
      "        political minnow — just one of the pieces of the puzzle that is modern\n"
     ]
    }
   ],
   "source": [
    "! head -n 20 datasets/IntroJapan.txt"
   ]
  },
  {
   "cell_type": "code",
   "execution_count": 11,
   "metadata": {},
   "outputs": [],
   "source": [
    "# loading a text file\n",
    "loader = TextLoader('datasets/IntroJapan.txt')"
   ]
  },
  {
   "cell_type": "code",
   "execution_count": 12,
   "metadata": {},
   "outputs": [
    {
     "data": {
      "text/plain": [
       "(list, langchain.document_loaders.text.TextLoader)"
      ]
     },
     "execution_count": 12,
     "metadata": {},
     "output_type": "execute_result"
    }
   ],
   "source": [
    "type(loader.load()),type(loader)"
   ]
  },
  {
   "cell_type": "markdown",
   "metadata": {},
   "source": [
    "> We will vector Store Indexer for faster access and search on embeddings.  Chroma is the vector store we will be using. Other options include AtlasDB, Redis, Faiss etc\n",
    "\n",
    "Further information about Chroma can be found here:https://www.trychroma.com/"
   ]
  },
  {
   "cell_type": "code",
   "execution_count": 13,
   "metadata": {},
   "outputs": [
    {
     "name": "stderr",
     "output_type": "stream",
     "text": [
      "Using embedded DuckDB without persistence: data will be transient\n"
     ]
    }
   ],
   "source": [
    "# indexing the text file\n",
    "index = VectorstoreIndexCreator().from_loaders([loader])"
   ]
  },
  {
   "cell_type": "code",
   "execution_count": 14,
   "metadata": {},
   "outputs": [
    {
     "data": {
      "text/plain": [
       "' The bullet train can reach speeds of up to 300 km (186 miles) per hour.'"
      ]
     },
     "execution_count": 14,
     "metadata": {},
     "output_type": "execute_result"
    }
   ],
   "source": [
    "index.query('how fast is the bullet train')"
   ]
  },
  {
   "cell_type": "code",
   "execution_count": 43,
   "metadata": {},
   "outputs": [
    {
     "name": "stderr",
     "output_type": "stream",
     "text": [
      "Retrying langchain.embeddings.openai.embed_with_retry.<locals>._completion_with_retry in 4.0 seconds as it raised APIConnectionError: Error communicating with OpenAI: ('Connection aborted.', RemoteDisconnected('Remote end closed connection without response')).\n"
     ]
    },
    {
     "data": {
      "text/plain": [
       "' Japan has a temperate climate of unusually distinct seasons, with bitter winters and hot, humid summers. Winters are milder and sunnier on the Pacific coast. The northern tip of Hokkaido offers snowy conditions, while the subtropical region of southern Kyushu and Okinawa has popular coral reefs.'"
      ]
     },
     "execution_count": 43,
     "metadata": {},
     "output_type": "execute_result"
    }
   ],
   "source": [
    "index.query('how is the climate in japan')"
   ]
  },
  {
   "cell_type": "markdown",
   "metadata": {},
   "source": [
    "> Lets check the answer to 'how is the climate in japan' directly using ChatGPT models instead of textfile like being done above\n",
    "- trying GPT3.5 and text-davinci-003\n"
   ]
  },
  {
   "cell_type": "code",
   "execution_count": 25,
   "metadata": {},
   "outputs": [],
   "source": [
    "chatgpt = ChatOpenAI(model_name='gpt-3.5-turbo')"
   ]
  },
  {
   "cell_type": "code",
   "execution_count": 26,
   "metadata": {},
   "outputs": [
    {
     "name": "stderr",
     "output_type": "stream",
     "text": [
      "Retrying langchain.chat_models.openai.ChatOpenAI.completion_with_retry.<locals>._completion_with_retry in 4.0 seconds as it raised APIConnectionError: Error communicating with OpenAI: ('Connection aborted.', RemoteDisconnected('Remote end closed connection without response')).\n"
     ]
    },
    {
     "data": {
      "text/plain": [
       "AIMessage(content=\"As an AI language model, I don't have personal experiences, but based on scientific data, Japan has a temperate climate with four distinct seasons. Winters are often cold and snowy in most parts of the country, especially in the northern regions. Spring is generally mild and pleasant, while summers are hot and humid, with occasional typhoons. Autumn is known for its colorful foliage and mild temperatures. The climate can vary depending on the location within the country, with the northern areas being colder and the southern areas being warmer.\", additional_kwargs={})"
      ]
     },
     "execution_count": 26,
     "metadata": {},
     "output_type": "execute_result"
    }
   ],
   "source": [
    "chatgpt([HumanMessage(content='how is the climate in japan')])"
   ]
  },
  {
   "cell_type": "code",
   "execution_count": 29,
   "metadata": {},
   "outputs": [],
   "source": [
    "chatgpt = OpenAI(model_name='text-davinci-003')"
   ]
  },
  {
   "cell_type": "code",
   "execution_count": 31,
   "metadata": {},
   "outputs": [
    {
     "data": {
      "text/plain": [
       "'\\n\\nThe climate in Japan is mostly temperate, with four distinct seasons. Summers are generally hot and humid, while winters are typically cold with heavy snowfall in some areas. The northern island of Hokkaido has a colder climate than the rest of the country, while the southern islands are generally warmer.'"
      ]
     },
     "execution_count": 31,
     "metadata": {},
     "output_type": "execute_result"
    }
   ],
   "source": [
    "chatgpt('how is the climate in japan')"
   ]
  },
  {
   "cell_type": "markdown",
   "metadata": {},
   "source": [
    "> Trying FLAN pretrained"
   ]
  },
  {
   "cell_type": "code",
   "execution_count": 15,
   "metadata": {},
   "outputs": [],
   "source": [
    "flan = HuggingFaceHub(repo_id=\"google/flan-t5-base\")"
   ]
  },
  {
   "cell_type": "code",
   "execution_count": 16,
   "metadata": {},
   "outputs": [
    {
     "data": {
      "text/plain": [
       "'very cold'"
      ]
     },
     "execution_count": 16,
     "metadata": {},
     "output_type": "execute_result"
    }
   ],
   "source": [
    "flan('how is the climate in japan')"
   ]
  },
  {
   "cell_type": "code",
   "execution_count": 32,
   "metadata": {},
   "outputs": [],
   "source": [
    "flan = HuggingFaceHub(repo_id=\"google/flan-t5-large\")"
   ]
  },
  {
   "cell_type": "code",
   "execution_count": 33,
   "metadata": {},
   "outputs": [
    {
     "data": {
      "text/plain": [
       "'The climate of Japan is hot and humid with a hot summer and a cold winter.'"
      ]
     },
     "execution_count": 33,
     "metadata": {},
     "output_type": "execute_result"
    }
   ],
   "source": [
    "flan('how is the climate in japan')"
   ]
  },
  {
   "cell_type": "markdown",
   "metadata": {},
   "source": [
    "> Trying GPT J pretrained"
   ]
  },
  {
   "cell_type": "code",
   "execution_count": 43,
   "metadata": {},
   "outputs": [],
   "source": [
    "gpt_j6B = HuggingFaceHub(repo_id=\"EleutherAI/gpt-j-6B\", model_kwargs={\"temperature\":0.1, \"max_new_tokens\":100})"
   ]
  },
  {
   "cell_type": "code",
   "execution_count": 19,
   "metadata": {},
   "outputs": [
    {
     "data": {
      "text/plain": [
       "'?\\n\\nA:\\n\\nJapan is a very humid country. The average temperature is around 15 degrees Celsius.\\n\\nA:\\n\\nJapan is a humid country. The average temperature is around 15 degrees Celsius.\\n\\nA:\\n\\nJapan is a humid country. The average temperature is around 15 degrees Celsius.\\n\\n'"
      ]
     },
     "execution_count": 19,
     "metadata": {},
     "output_type": "execute_result"
    }
   ],
   "source": [
    "gpt_j6B('how is the climate in japan')"
   ]
  },
  {
   "cell_type": "markdown",
   "metadata": {},
   "source": [
    "> Trying BigScience Bloom pretrained model"
   ]
  },
  {
   "cell_type": "code",
   "execution_count": 52,
   "metadata": {},
   "outputs": [],
   "source": [
    "bloom = HuggingFaceHub(repo_id='bigscience/bloom-1b7')\n",
    "\n"
   ]
  },
  {
   "cell_type": "code",
   "execution_count": 53,
   "metadata": {},
   "outputs": [
    {
     "data": {
      "text/plain": [
       "'?\"\\n\"It is very cold,\" he said.\\n\"'"
      ]
     },
     "execution_count": 53,
     "metadata": {},
     "output_type": "execute_result"
    }
   ],
   "source": [
    "bloom('how is the climate in japan')"
   ]
  },
  {
   "cell_type": "markdown",
   "metadata": {},
   "source": [
    "> Trying Cohere pretrained models"
   ]
  },
  {
   "cell_type": "code",
   "execution_count": 35,
   "metadata": {},
   "outputs": [],
   "source": [
    "cohere_command_xl = Cohere(model='command-xlarge', \n",
    "             temperature=0.1, \n",
    "             max_tokens = 256)"
   ]
  },
  {
   "cell_type": "code",
   "execution_count": 36,
   "metadata": {},
   "outputs": [
    {
     "data": {
      "text/plain": [
       "\"\\nThe climate in Japan varies from tropical in the south to cool temperate in the north. The Japanese archipelago is located in a region of the Pacific Ocean that experiences a variety of weather patterns, including typhoons, heavy rains, and droughts. The country's long, mountainous coastline also makes it vulnerable to earthquakes and tsunamis. The Japanese government has developed a comprehensive system of early warning and disaster preparedness to deal with these natural hazards.\""
      ]
     },
     "execution_count": 36,
     "metadata": {},
     "output_type": "execute_result"
    }
   ],
   "source": [
    "cohere_command_xl('how is the climate in japan')"
   ]
  },
  {
   "cell_type": "code",
   "execution_count": 37,
   "metadata": {},
   "outputs": [],
   "source": [
    "cohere_command_xl = Cohere(model='command-xlarge-nightly', \n",
    "             temperature=0.1, \n",
    "             max_tokens = 256)"
   ]
  },
  {
   "cell_type": "code",
   "execution_count": 38,
   "metadata": {},
   "outputs": [
    {
     "data": {
      "text/plain": [
       "'\\nThe climate in Japan is varied. The northern island of Hokkaido is known for its cold winters, while the southern island of Kyushu has a subtropical climate. The main island of Honshu has a temperate climate with four distinct seasons. The climate in Japan is affected by the surrounding oceans, which help to moderate temperature extremes.'"
      ]
     },
     "execution_count": 38,
     "metadata": {},
     "output_type": "execute_result"
    }
   ],
   "source": [
    "cohere_command_xl('how is the climate in japan')"
   ]
  },
  {
   "cell_type": "markdown",
   "metadata": {},
   "source": [
    "> Going back to loading documents and answering questions"
   ]
  },
  {
   "cell_type": "markdown",
   "metadata": {},
   "source": [
    "During vector store index creation: There are three main steps going on after the documents are loaded:\n",
    "\n",
    "- Splitting documents into chunks\n",
    "\n",
    "- Creating embeddings for each document\n",
    "\n",
    "- Storing documents and embeddings in a vectorstore"
   ]
  },
  {
   "cell_type": "markdown",
   "metadata": {},
   "source": [
    "**Exploring chains in langchain**"
   ]
  },
  {
   "cell_type": "code",
   "execution_count": 77,
   "metadata": {},
   "outputs": [
    {
     "data": {
      "text/plain": [
       "HumanMessagePromptTemplate(prompt=PromptTemplate(input_variables=['product'], output_parser=None, partial_variables={}, template='What are some advantages of {product}? Limit to two advantages.', template_format='f-string', validate_template=True), additional_kwargs={})"
      ]
     },
     "execution_count": 77,
     "metadata": {},
     "output_type": "execute_result"
    }
   ],
   "source": [
    "human_message_prompt = HumanMessagePromptTemplate(\n",
    "        prompt=PromptTemplate(\n",
    "            template=\"What are some advantages of {product}? Limit to two advantages.\",\n",
    "            input_variables=[\"product\"],\n",
    "        )\n",
    "    )\n",
    "human_message_prompt"
   ]
  },
  {
   "cell_type": "code",
   "execution_count": 78,
   "metadata": {},
   "outputs": [
    {
     "data": {
      "text/plain": [
       "ChatPromptTemplate(input_variables=['product'], output_parser=None, partial_variables={}, messages=[HumanMessagePromptTemplate(prompt=PromptTemplate(input_variables=['product'], output_parser=None, partial_variables={}, template='What are some advantages of {product}? Limit to two advantages.', template_format='f-string', validate_template=True), additional_kwargs={})])"
      ]
     },
     "execution_count": 78,
     "metadata": {},
     "output_type": "execute_result"
    }
   ],
   "source": [
    "chat_prompt_template = ChatPromptTemplate.from_messages([human_message_prompt])\n",
    "chat_prompt_template"
   ]
  },
  {
   "cell_type": "code",
   "execution_count": 79,
   "metadata": {},
   "outputs": [
    {
     "name": "stdout",
     "output_type": "stream",
     "text": [
      "1. Increased magnification: Binoculars provide a magnified view of distant objects that is not possible with the naked eye, allowing users to see greater detail and clarity.\n",
      "\n",
      "2. Portability: Binoculars are lightweight and portable, making them easy to carry on outdoor adventures or to events where distant objects might be viewed, such as sporting events or concerts.\n"
     ]
    }
   ],
   "source": [
    "chat = ChatOpenAI(temperature=0.9)\n",
    "chain = LLMChain(llm=chat, prompt=chat_prompt_template)\n",
    "print(chain.run(\"binoculars\"))"
   ]
  },
  {
   "cell_type": "code",
   "execution_count": 80,
   "metadata": {},
   "outputs": [],
   "source": [
    "second_prompt = PromptTemplate(\n",
    "    input_variables=[\"input_advantages\"],\n",
    "    template=\"\"\"For each of the advantages listed here: \n",
    "    {input_advantages}\n",
    "    ,\n",
    "    what could be some disadvantages? explain.\n",
    "    \"\"\",\n",
    ")\n",
    "chain_two = LLMChain(llm=chat, prompt=second_prompt)"
   ]
  },
  {
   "cell_type": "code",
   "execution_count": 81,
   "metadata": {},
   "outputs": [
    {
     "name": "stdout",
     "output_type": "stream",
     "text": [
      "\n",
      "\n",
      "\u001b[1m> Entering new SimpleSequentialChain chain...\u001b[0m\n",
      "\u001b[36;1m\u001b[1;3m1. Magnification: Binoculars allow you to see objects in greater detail and at a greater distance than you would be able to with just your naked eye.\n",
      "\n",
      "2. Portability: Binoculars are generally small and lightweight, making them easy to carry around and use on-the-go. They can be used for a variety of activities such as hiking, bird watching, and sports events.\u001b[0m\n",
      "\u001b[33;1m\u001b[1;3m1. Magnification: One disadvantage of binoculars with high magnification is that they may not offer a wide field of view, meaning that you may have to scan across the area you are observing to get a full picture. Additionally, higher magnification also means that any hand movement or slight shake can cause the image to blur or become distorted.\n",
      "\n",
      "2. Portability: While binoculars are generally portable, some models may be heavier or bulkier than others. This can be inconvenient if you have limited space or are trying to minimize the weight of your gear for a specific activity. Additionally, binoculars with larger lenses may require more maintenance, such as cleaning and care, to ensure their longevity.\u001b[0m\n",
      "\n",
      "\u001b[1m> Finished chain.\u001b[0m\n",
      "1. Magnification: One disadvantage of binoculars with high magnification is that they may not offer a wide field of view, meaning that you may have to scan across the area you are observing to get a full picture. Additionally, higher magnification also means that any hand movement or slight shake can cause the image to blur or become distorted.\n",
      "\n",
      "2. Portability: While binoculars are generally portable, some models may be heavier or bulkier than others. This can be inconvenient if you have limited space or are trying to minimize the weight of your gear for a specific activity. Additionally, binoculars with larger lenses may require more maintenance, such as cleaning and care, to ensure their longevity.\n"
     ]
    }
   ],
   "source": [
    "overall_chain = SimpleSequentialChain(chains=[chain, chain_two], verbose=True)\n",
    "\n",
    "after_chained_response = overall_chain.run(\"binoculars\")\n",
    "print(after_chained_response)"
   ]
  },
  {
   "cell_type": "markdown",
   "metadata": {},
   "source": [
    "**Working with langchain Agents**"
   ]
  },
  {
   "cell_type": "code",
   "execution_count": 86,
   "metadata": {},
   "outputs": [],
   "source": [
    "gpt3 = OpenAI(model_name='text-davinci-003')"
   ]
  },
  {
   "cell_type": "code",
   "execution_count": 88,
   "metadata": {},
   "outputs": [],
   "source": [
    "tools = load_tools([\"wikipedia\", \"llm-math\"], llm=gpt3)"
   ]
  },
  {
   "cell_type": "code",
   "execution_count": 89,
   "metadata": {},
   "outputs": [],
   "source": [
    "agent = initialize_agent(tools, llm=gpt3, agent=\"zero-shot-react-description\", verbose=True)"
   ]
  },
  {
   "cell_type": "code",
   "execution_count": 91,
   "metadata": {},
   "outputs": [
    {
     "name": "stdout",
     "output_type": "stream",
     "text": [
      "\n",
      "\n",
      "\u001b[1m> Entering new AgentExecutor chain...\u001b[0m\n",
      "\u001b[32;1m\u001b[1;3m I should look up the areas of Tokyo and Osaka, and then compare them to the total area of Japan.\n",
      "Action: Wikipedia\n",
      "Action Input: Area of Japan\u001b[0m\n",
      "Observation: \u001b[36;1m\u001b[1;3mPage: Geography of Japan\n",
      "Summary: Japan is an archipelagic country comprising a stratovolcanic archipelago over 3,000 km (1,900 mi) along the Pacific coast of East Asia. It consists of 14,125 islands. The five main islands are Hokkaido, Honshu, Kyushu, Shikoku and Okinawa. The other 14,120 islands are classified as \"remote islands\" by the Japanese government. The Ryukyu Islands and Nanpō Islands are south and east of the main islands.\n",
      "The territory covers 377,973.89 km2 (145,936.53 sq mi). It is the fourth largest island country in the world and the largest island country in East Asia. The country has the 6th longest coastline at 29,751 km (18,486 mi) and the 8th largest Exclusive Economic Zone of 4,470,000 km2 (1,730,000 sq mi) in the world.The terrain is mostly rugged and mountainous with 66% forest. The population is clustered in urban areas on the coast, plains and valleys. Japan is located in the northwestern Ring of Fire on multiple tectonic plates. East of the Japanese archipelago are three oceanic trenches. The Japan Trench is created as the oceanic Pacific Plate subducts beneath the continental Okhotsk Plate. The continuous subduction process causes frequent earthquakes, tsunami and stratovolcanoes. The islands are also affected by typhoons. The subduction plates have pulled the Japanese archipelago eastward, created the Sea of Japan and separated it from the Asian continent by back-arc spreading 15 million years ago.The climate varies from humid continental in the north to humid subtropical and tropical rainforest in the south. These differences in climate and landscape have allowed the development of a diverse flora and fauna, with some rare endemic species, especially in the Ogasawara Islands.\n",
      "Japan extends from 20° to 45° north latitude (Okinotorishima to Benten-jima) and from 122° to 153° east longitude (Yonaguni to Minami Torishima). Japan is surrounded by seas. To the north the Sea of Okhotsk separates it from the Russian Far East, to the west the Sea of Japan separates it from the Korean Peninsula, to the southwest the East China Sea separates the Ryukyu Islands from China and Taiwan, to the east is the Pacific Ocean.\n",
      "\n",
      "The Japanese archipelago is over 3,000 km (1,900 mi) long in a north-to-southwardly direction from the Sea of Okhotsk to the Philippine Sea in the Pacific Ocean. It is narrow, and no point in Japan is more than 150 km (93 mi) from the sea. In 2023, a government recount of the islands with digital maps increased the total from 6,852 to 14,125 islands. The five main islands are (from north to south) Hokkaido, Honshu, Shikoku, Kyushu and Okinawa. Three of the four major islands (Honshu, Kyushu and Shikoku) are separated by narrow straits of the Seto Inland Sea and form a natural entity. The 6,847 smaller islands are called remote islands. This includes the Bonin Islands, Daitō Islands, Minami-Tori-shima, Okinotorishima, the Ryukyu Islands, the Volcano Islands, Nansei Islands, and the Nanpō Islands, as well as numerous islets, of which 430 are inhabited. The Senkaku Islands are administered by Japan but disputed by China. This excludes the disputed Northern Territories (Kuril islands) and Liancourt Rocks. In total, as of 2021, Japan's territory is 377,973.89 km2 (145,936.53 sq mi), of which 364,546.41 km2 (140,752.16 sq mi) is land and 13,430 km2 (5,190 sq mi) water.  Japan has the sixth longest coastline in the world (29,751 km (18,486 mi)). It is the largest island country in East Asia and fourth largest island country in the world.Because of Japan's many far-flung outlying islands and long coastline, the country has extensive marine life and mineral resources in the ocean. The Exclusive Economic Zone of Japan covers 4,470,000 km2 (1,730,000 sq mi) and is the 8th largest in the world. It is more than 11 times the land area of the country. The Exclusive Economic Zone stretches from the baseline out to 200 nautical miles (370 km) from its coast. Its territorial sea is 12 nmi (22.2 km; 13.8 mi), but between 3 and 12 nmi (5.6 and 22.2 km; 3.5 and 13.8 mi) in the international straits—La Pérouse (or Sōya Strait), Tsugaru Strait, Ōsumi, and Tsushima Strait.\n",
      "Japan has a population of 126 million in 2019. It is the 11th most populous country in the world and second most populous island country. 81% of the population lives on Honshu, 10% on Kyushu, 4.2% on Hokkaido, 3% on Shikoku, 1.1% in Okinawa Prefecture and 0.7% on other Japanese islands such as the Nanpō Islands.\n",
      "\n",
      "Page: List of metropolitan areas in Japan\n",
      "Summary: This is a list of metropolitan areas (都市圏, toshiken) in Japan by population as defined by the Statistics Bureau of Japan (SBJ) and the Center for Spatial Information Service of the University of Tokyo. The region containing most of the people in Japan between Tokyo and Fukuoka is often called the Taiheiyō Belt.\n",
      "\n",
      "Page: List of Japanese prefectures by area\n",
      "Summary: \u001b[0m\n",
      "Thought:\u001b[32;1m\u001b[1;3m I can use this data to answer the original question\n",
      "Action: Calculator\n",
      "Action Input: Total area of Japan (377,973.89 km2) * (Area of Tokyo (2,193 km2) + Area of Osaka (1,905 km2)) / 100\u001b[0m\n",
      "Observation: \u001b[33;1m\u001b[1;3mAnswer: 15489370.0122\n",
      "\u001b[0m\n",
      "Thought:\u001b[32;1m\u001b[1;3m I now know the final answer\n",
      "Final Answer: Tokyo and Osaka together make up 15.49% of the total area of Japan.\u001b[0m\n",
      "\n",
      "\u001b[1m> Finished chain.\u001b[0m\n"
     ]
    },
    {
     "data": {
      "text/plain": [
       "'Tokyo and Osaka together make up 15.49% of the total area of Japan.'"
      ]
     },
     "execution_count": 91,
     "metadata": {},
     "output_type": "execute_result"
    }
   ],
   "source": [
    "agent.run(\"What is the area of Japan? give me the area of Tokyo and Osaka together as percentage of the total area of Japan.\")"
   ]
  },
  {
   "cell_type": "markdown",
   "metadata": {},
   "source": [
    "> using python REPL instead of LLM math"
   ]
  },
  {
   "cell_type": "code",
   "execution_count": 96,
   "metadata": {},
   "outputs": [
    {
     "data": {
      "text/plain": [
       "0.01084198690389576"
      ]
     },
     "execution_count": 96,
     "metadata": {},
     "output_type": "execute_result"
    }
   ],
   "source": [
    "(2193+1905)/377975"
   ]
  },
  {
   "cell_type": "code",
   "execution_count": 92,
   "metadata": {},
   "outputs": [],
   "source": [
    "tools = load_tools([\"wikipedia\", \"python_repl\"], llm=gpt3)"
   ]
  },
  {
   "cell_type": "code",
   "execution_count": 93,
   "metadata": {},
   "outputs": [],
   "source": [
    "agent = initialize_agent(tools, llm=gpt3, agent=\"zero-shot-react-description\", verbose=True)"
   ]
  },
  {
   "cell_type": "code",
   "execution_count": 94,
   "metadata": {},
   "outputs": [
    {
     "name": "stdout",
     "output_type": "stream",
     "text": [
      "\n",
      "\n",
      "\u001b[1m> Entering new AgentExecutor chain...\u001b[0m\n",
      "\u001b[32;1m\u001b[1;3m I need to find the area of Japan, Tokyo, and Osaka and calculate the percentage.\n",
      "Action: Wikipedia\n",
      "Action Input: \"Japan area\"\u001b[0m\n",
      "Observation: \u001b[36;1m\u001b[1;3mPage: List of metropolitan areas in Japan\n",
      "Summary: This is a list of metropolitan areas (都市圏, toshiken) in Japan by population as defined by the Statistics Bureau of Japan (SBJ) and the Center for Spatial Information Service of the University of Tokyo. The region containing most of the people in Japan between Tokyo and Fukuoka is often called the Taiheiyō Belt.\n",
      "\n",
      "Page: List of Japanese prefectures by area\n",
      "Summary: \n",
      "\n",
      "Page: List of dialing codes in Japan\n",
      "Summary: These tables list the dialing codes (area codes) for calling land lines for various cities and districts in Japan, when dialing from within Japan. The leading 0 is omitted when calling from outside Japan. Cell phones use the dialing codes of 070, 080 or 090. IP-based phone services use the 050 dialing code.\u001b[0m\n",
      "Thought:\u001b[32;1m\u001b[1;3m I have the area of Japan, Tokyo, and Osaka. Now I need to calculate the percentage.\n",
      "Action: Python REPL\n",
      "Action Input: print((3.5 + 8.5 + 694.44)*100/377805)\u001b[0m\n",
      "Observation: \u001b[33;1m\u001b[1;3m0.18698534958510343\n",
      "\u001b[0m\n",
      "Thought:\u001b[32;1m\u001b[1;3m I now know the final answer\n",
      "Final Answer: The area of Tokyo and Osaka together is 0.19% of the total area of Japan.\u001b[0m\n",
      "\n",
      "\u001b[1m> Finished chain.\u001b[0m\n"
     ]
    },
    {
     "data": {
      "text/plain": [
       "'The area of Tokyo and Osaka together is 0.19% of the total area of Japan.'"
      ]
     },
     "execution_count": 94,
     "metadata": {},
     "output_type": "execute_result"
    }
   ],
   "source": [
    "agent.run(\"What is the area of Japan? give me the area of Tokyo and Osaka together as percentage of the total area of Japan.\")"
   ]
  },
  {
   "cell_type": "markdown",
   "metadata": {},
   "source": [
    "> Using model laboratory to compare models"
   ]
  },
  {
   "cell_type": "code",
   "execution_count": 20,
   "metadata": {},
   "outputs": [],
   "source": [
    "from langchain.model_laboratory import ModelLaboratory"
   ]
  },
  {
   "cell_type": "code",
   "execution_count": 54,
   "metadata": {},
   "outputs": [],
   "source": [
    "lab = ModelLaboratory.from_llms([\n",
    "    OpenAI(model_name='text-davinci-003'),\n",
    "    cohere_command_xl,\n",
    "    bloom])\n",
    "    "
   ]
  },
  {
   "cell_type": "code",
   "execution_count": 55,
   "metadata": {},
   "outputs": [
    {
     "name": "stderr",
     "output_type": "stream",
     "text": [
      "Retrying langchain.llms.openai.completion_with_retry.<locals>._completion_with_retry in 4.0 seconds as it raised APIConnectionError: Error communicating with OpenAI: ('Connection aborted.', RemoteDisconnected('Remote end closed connection without response')).\n"
     ]
    },
    {
     "name": "stdout",
     "output_type": "stream",
     "text": [
      "\u001b[1mInput:\u001b[0m\n",
      "I drove to the store today. I bought some milk and eggs. What else could I have bought?\n",
      "\n",
      "\u001b[1mOpenAI\u001b[0m\n",
      "Params: {'model_name': 'text-davinci-003', 'temperature': 0.7, 'max_tokens': 256, 'top_p': 1, 'frequency_penalty': 0, 'presence_penalty': 0, 'n': 1, 'best_of': 1, 'request_timeout': None, 'logit_bias': {}}\n",
      "\u001b[36;1m\u001b[1;3m\n",
      "\n",
      "You could have bought bread, cereal, fruit, vegetables, cheese, yogurt, lunch meat, canned goods, snacks, and more.\u001b[0m\n",
      "\n",
      "\u001b[1mCohere\u001b[0m\n",
      "Params: {'model': 'command-xlarge-nightly', 'max_tokens': 256, 'temperature': 0.1, 'k': 0, 'p': 1, 'frequency_penalty': 0.0, 'presence_penalty': 0.0, 'truncate': None}\n",
      "\u001b[33;1m\u001b[1;3m\n",
      "You could have bought any other grocery item that you needed.\u001b[0m\n",
      "\n",
      "\u001b[1mHuggingFaceHub\u001b[0m\n",
      "Params: {'repo_id': 'bigscience/bloom-1b7', 'task': None, 'model_kwargs': {}}\n",
      "\u001b[38;5;200m\u001b[1;3m I\u001b[0m\n",
      "\n"
     ]
    }
   ],
   "source": [
    "lab.compare(\"I drove to the store today. I bought some milk and eggs. What else could I have bought?\")"
   ]
  }
 ],
 "metadata": {
  "kernelspec": {
   "display_name": "Python 3.10.9 ('torch_2_env')",
   "language": "python",
   "name": "python3"
  },
  "language_info": {
   "codemirror_mode": {
    "name": "ipython",
    "version": 3
   },
   "file_extension": ".py",
   "mimetype": "text/x-python",
   "name": "python",
   "nbconvert_exporter": "python",
   "pygments_lexer": "ipython3",
   "version": "3.10.9"
  },
  "orig_nbformat": 4,
  "vscode": {
   "interpreter": {
    "hash": "8fb8b680fd183c223b836b79cdcb0f2f0334fe2549f7dc1091ef51ac1f51f680"
   }
  }
 },
 "nbformat": 4,
 "nbformat_minor": 2
}
